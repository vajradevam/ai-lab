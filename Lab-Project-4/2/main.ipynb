{
 "cells": [
  {
   "cell_type": "code",
   "execution_count": 27,
   "metadata": {},
   "outputs": [],
   "source": [
    "import numpy as np\n",
    "import pandas as pd\n",
    "from sklearn.model_selection import train_test_split\n",
    "from sklearn.tree import DecisionTreeClassifier\n",
    "from sklearn.metrics import accuracy_score"
   ]
  },
  {
   "cell_type": "code",
   "execution_count": 28,
   "metadata": {},
   "outputs": [],
   "source": [
    "from sklearn.datasets import fetch_openml\n",
    "import pandas as pd\n",
    "\n",
    "# Step 1: Load the Ionosphere dataset\n",
    "def load_dataset():\n",
    "    # Fetch Ionosphere dataset from OpenML\n",
    "    ionosphere = fetch_openml(name='ionosphere', version=1, as_frame=True)\n",
    "    \n",
    "    # Convert to DataFrame and Series\n",
    "    X = pd.DataFrame(ionosphere.data, columns=ionosphere.feature_names)\n",
    "    y = pd.Series(ionosphere.target)\n",
    "    \n",
    "    return X, y"
   ]
  },
  {
   "cell_type": "code",
   "execution_count": 29,
   "metadata": {},
   "outputs": [],
   "source": [
    "# Step 2: Define an evaluation metric (classification accuracy)\n",
    "def evaluate_subset(X, y, subset):\n",
    "    X_subset = X.iloc[:, list(subset)]\n",
    "    X_train, X_test, y_train, y_test = train_test_split(X_subset, y, test_size=0.3, random_state=42)\n",
    "    model = DecisionTreeClassifier(random_state=42)\n",
    "    model.fit(X_train, y_train)\n",
    "    y_pred = model.predict(X_test)\n",
    "    return accuracy_score(y_test, y_pred)"
   ]
  },
  {
   "cell_type": "code",
   "execution_count": 30,
   "metadata": {},
   "outputs": [],
   "source": [
    "# Step 3: Generate an initial random subset of features\n",
    "def generate_initial_subset(num_features):\n",
    "    return set(np.random.choice(num_features, size=np.random.randint(1, num_features + 1), replace=False))"
   ]
  },
  {
   "cell_type": "code",
   "execution_count": 31,
   "metadata": {},
   "outputs": [],
   "source": [
    "# Step 4: Generate neighboring subsets by adding or removing one feature\n",
    "def generate_neighbors(subset, num_features):\n",
    "    neighbors = []\n",
    "    for i in range(num_features):\n",
    "        if i in subset:\n",
    "            neighbor = subset - {i}\n",
    "            neighbors.append(neighbor)\n",
    "        else:\n",
    "            neighbor = subset | {i}\n",
    "            neighbors.append(neighbor)\n",
    "    return neighbors"
   ]
  },
  {
   "cell_type": "code",
   "execution_count": 32,
   "metadata": {},
   "outputs": [],
   "source": [
    "# Step 5: Hill-climbing feature selection\n",
    "def hill_climbing_feature_selection(X, y):\n",
    "    num_features = X.shape[1]\n",
    "    current_subset = generate_initial_subset(num_features)\n",
    "    current_score = evaluate_subset(X, y, current_subset)\n",
    "    \n",
    "    improved = True\n",
    "    while improved:\n",
    "        improved = False\n",
    "        neighbors = generate_neighbors(current_subset, num_features)\n",
    "        for neighbor in neighbors:\n",
    "            neighbor_score = evaluate_subset(X, y, neighbor)\n",
    "            if neighbor_score > current_score:\n",
    "                current_subset = neighbor\n",
    "                current_score = neighbor_score\n",
    "                improved = True\n",
    "                break  # Move to the best neighbor immediately\n",
    "        \n",
    "    return current_subset, current_score"
   ]
  },
  {
   "cell_type": "code",
   "execution_count": 33,
   "metadata": {},
   "outputs": [
    {
     "name": "stdout",
     "output_type": "stream",
     "text": [
      "Optimal feature subset: {np.int64(18), np.int64(22), 23, np.int64(9), np.int64(26), np.int64(11), np.int64(12), 29}\n",
      "Optimal accuracy score: 0.9433962264150944\n",
      "Accuracy using all features: 0.8962264150943396\n"
     ]
    }
   ],
   "source": [
    "# Step 6: Run the feature selection and compare performance\n",
    "def main():\n",
    "    X, y = load_dataset()\n",
    "    optimal_subset, optimal_score = hill_climbing_feature_selection(X, y)\n",
    "    \n",
    "    print(\"Optimal feature subset:\", optimal_subset)\n",
    "    print(\"Optimal accuracy score:\", optimal_score)\n",
    "    \n",
    "    # Compare with all features\n",
    "    all_features_score = evaluate_subset(X, y, set(range(X.shape[1])))\n",
    "    print(\"Accuracy using all features:\", all_features_score)\n",
    "\n",
    "# Execute the main function\n",
    "if __name__ == \"__main__\":\n",
    "    main()"
   ]
  }
 ],
 "metadata": {
  "kernelspec": {
   "display_name": "VENV",
   "language": "python",
   "name": "python3"
  },
  "language_info": {
   "codemirror_mode": {
    "name": "ipython",
    "version": 3
   },
   "file_extension": ".py",
   "mimetype": "text/x-python",
   "name": "python",
   "nbconvert_exporter": "python",
   "pygments_lexer": "ipython3",
   "version": "3.12.8"
  }
 },
 "nbformat": 4,
 "nbformat_minor": 2
}
