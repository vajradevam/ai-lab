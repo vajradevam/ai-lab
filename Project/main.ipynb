{
 "cells": [
  {
   "cell_type": "code",
   "execution_count": 10,
   "metadata": {},
   "outputs": [],
   "source": [
    "import os\n",
    "import pandas as pd\n",
    "import yfinance as yf\n",
    "from datetime import datetime, timedelta"
   ]
  },
  {
   "cell_type": "code",
   "execution_count": 11,
   "metadata": {},
   "outputs": [],
   "source": [
    "def cleanup():\n",
    "    # Define the directory\n",
    "    output_dir = \"TICKER_DATA\"\n",
    "\n",
    "    # Find all CSV files in the directory\n",
    "    files = glob.glob(os.path.join(output_dir, \"*.csv\"))\n",
    "\n",
    "    # Delete each file\n",
    "    for file in files:\n",
    "        try:\n",
    "            os.remove(file)\n",
    "            print(f\"Deleted: {file}\")\n",
    "        except Exception as e:\n",
    "            print(f\"Error deleting {file}: {e}\")\n",
    "\n",
    "    print(\"Cleanup completed. All CSV files deleted.\")"
   ]
  },
  {
   "cell_type": "code",
   "execution_count": 29,
   "metadata": {},
   "outputs": [],
   "source": [
    "def ticker_data():\n",
    "    # Create a directory to save data\n",
    "    output_dir = \"TICKER_DATA\"\n",
    "    os.makedirs(output_dir, exist_ok=True)\n",
    "\n",
    "    # Load tickers from CSV (Assuming 'tickers.csv' has a column 'Symbol')\n",
    "    tickers_df = pd.read_csv(\"tickers.csv\")\n",
    "    tickers = tickers_df[\"Symbol\"].tolist()\n",
    "\n",
    "    # Define start and end dates (past 1 year)\n",
    "    end_date = pd.to_datetime(\"today\").strftime('%Y-%m-%d')\n",
    "    start_date = (pd.to_datetime(\"today\") - pd.DateOffset(years=1)).strftime('%Y-%m-%d')\n",
    "\n",
    "    # Fetch historical stock prices for each ticker and save separately\n",
    "    for ticker in tickers:\n",
    "        try:\n",
    "            stock = yf.Ticker(ticker)\n",
    "            history = stock.history(start=start_date, end=end_date, interval=\"1d\")\n",
    "            if not history.empty:\n",
    "                history.reset_index(inplace=True)\n",
    "                history[\"Symbol\"] = ticker  # Add ticker column\n",
    "                \n",
    "                # Save as CSV\n",
    "                file_path = os.path.join(output_dir, f\"{ticker}.csv\")\n",
    "                history.to_csv(file_path, index=False)\n",
    "                print(f\"Saved: {file_path}\")\n",
    "            else:\n",
    "                print(f\"No data for {ticker}\")\n",
    "\n",
    "        except Exception as e:\n",
    "            print(f\"Error fetching data for {ticker}: {e}\")\n",
    "\n",
    "    print(f\"All stock data saved in '{output_dir}' directory.\")"
   ]
  },
  {
   "cell_type": "code",
   "execution_count": 30,
   "metadata": {},
   "outputs": [
    {
     "name": "stdout",
     "output_type": "stream",
     "text": [
      "Deleted: TICKER_DATA/AAPL.csv\n",
      "Deleted: TICKER_DATA/V.csv\n",
      "Deleted: TICKER_DATA/JNJ.csv\n",
      "Deleted: TICKER_DATA/PYPL.csv\n",
      "Deleted: TICKER_DATA/JPM.csv\n",
      "Deleted: TICKER_DATA/WMT.csv\n",
      "Deleted: TICKER_DATA/TSLA.csv\n",
      "Deleted: TICKER_DATA/AMD.csv\n",
      "Deleted: TICKER_DATA/META.csv\n",
      "Deleted: TICKER_DATA/MSFT.csv\n",
      "Deleted: TICKER_DATA/T.csv\n",
      "Deleted: TICKER_DATA/AMZN.csv\n",
      "Deleted: TICKER_DATA/VZ.csv\n",
      "Deleted: TICKER_DATA/ADBE.csv\n",
      "Deleted: TICKER_DATA/KO.csv\n",
      "Deleted: TICKER_DATA/CRM.csv\n",
      "Deleted: TICKER_DATA/PG.csv\n",
      "Deleted: TICKER_DATA/PFE.csv\n",
      "Deleted: TICKER_DATA/GOOGL.csv\n",
      "Deleted: TICKER_DATA/NVDA.csv\n",
      "Cleanup completed. All CSV files deleted.\n"
     ]
    }
   ],
   "source": [
    "cleanup()"
   ]
  },
  {
   "cell_type": "code",
   "execution_count": 31,
   "metadata": {},
   "outputs": [
    {
     "name": "stdout",
     "output_type": "stream",
     "text": [
      "Saved: TICKER_DATA/AAPL.csv\n",
      "Saved: TICKER_DATA/MSFT.csv\n",
      "Saved: TICKER_DATA/AMZN.csv\n",
      "Saved: TICKER_DATA/GOOGL.csv\n",
      "Saved: TICKER_DATA/META.csv\n",
      "Saved: TICKER_DATA/TSLA.csv\n",
      "Saved: TICKER_DATA/JPM.csv\n",
      "Saved: TICKER_DATA/V.csv\n",
      "Saved: TICKER_DATA/WMT.csv\n",
      "Saved: TICKER_DATA/JNJ.csv\n",
      "Saved: TICKER_DATA/NVDA.csv\n",
      "Saved: TICKER_DATA/AMD.csv\n",
      "Saved: TICKER_DATA/ADBE.csv\n",
      "Saved: TICKER_DATA/CRM.csv\n",
      "Saved: TICKER_DATA/PYPL.csv\n",
      "Saved: TICKER_DATA/PG.csv\n",
      "Saved: TICKER_DATA/KO.csv\n",
      "Saved: TICKER_DATA/PFE.csv\n",
      "Saved: TICKER_DATA/T.csv\n",
      "Saved: TICKER_DATA/VZ.csv\n",
      "All stock data saved in 'TICKER_DATA' directory.\n"
     ]
    }
   ],
   "source": [
    "ticker_data()"
   ]
  },
  {
   "cell_type": "code",
   "execution_count": 2,
   "metadata": {},
   "outputs": [
    {
     "name": "stdout",
     "output_type": "stream",
     "text": [
      "AAPL   |     224.40 |     225.82 |     1.42 |     0.63% |   1.0063 |    22.60 |   0.8533\n",
      "V      |     350.01 |     339.07 |   -10.94 |    -3.13% |   0.9687 |   167.96 |  -1.0317\n",
      "JNJ    |     163.31 |     164.44 |     1.13 |     0.69% |   1.0069 |     5.43 |  -0.1541\n",
      "PYPL   |      69.08 |      71.02 |     1.94 |     2.81% |   1.0281 |     5.70 |   0.3116\n",
      "JPM    |     248.72 |     255.14 |     6.42 |     2.58% |   1.0258 |   141.69 |   0.2266\n",
      "WMT    |      85.96 |      86.95 |     1.00 |     1.16% |   1.0116 |    24.97 |   0.1877\n",
      "TSLA   |     275.93 |     276.78 |     0.85 |     0.31% |   1.0031 |  1377.93 |   0.0074\n",
      "AMD    |     106.42 |     109.09 |     2.67 |     2.51% |   1.0251 |   148.36 |  -3.7596\n",
      "META   |     605.96 |     611.66 |     5.70 |     0.94% |   1.0094 |   294.26 |   0.7582\n",
      "MSFT   |     391.29 |     394.85 |     3.57 |     0.91% |   1.0091 |    65.03 |   0.2565\n",
      "T      |      28.34 |      27.67 |    -0.67 |    -2.38% |   0.9762 |     2.97 |  -7.9444\n",
      "AMZN   |     202.51 |     197.38 |    -5.13 |    -2.53% |   0.9747 |    28.08 |   0.6492\n",
      "VZ     |      45.19 |      45.16 |    -0.03 |    -0.07% |   0.9993 |     1.09 |  -0.1543\n",
      "ADBE   |     397.95 |     402.07 |     4.11 |     1.03% |   1.0103 |   496.98 |   0.2572\n",
      "KO     |      70.64 |      70.76 |     0.13 |     0.18% |   1.0018 |     2.39 |  -3.1315\n",
      "CRM    |     278.98 |     277.48 |    -1.50 |    -0.54% |   0.9946 |    86.89 |   0.5438\n",
      "PG     |     168.77 |     168.44 |    -0.33 |    -0.19% |   0.9981 |     4.34 |   0.6465\n",
      "PFE    |      24.95 |      24.56 |    -0.39 |    -1.57% |   0.9843 |     0.14 |   0.2459\n",
      "GOOGL  |     162.61 |     166.45 |     3.84 |     2.36% |   1.0236 |    16.24 |   0.6134\n",
      "NVDA   |     112.14 |     117.26 |     5.13 |     4.57% |   1.0457 |    36.34 |   0.4987\n"
     ]
    }
   ],
   "source": [
    "import pandas as pd\n",
    "import os\n",
    "\n",
    "# Read the tickers information\n",
    "tickers_info = pd.read_csv('tickers.csv')\n",
    "\n",
    "# Initialize lists to store all data\n",
    "results = []\n",
    "\n",
    "# Process each file\n",
    "for ticker_file in ticker_files:\n",
    "    ticker = ticker_file.split('.')[0]\n",
    "    file_path = os.path.join(ticker_dir, ticker_file)\n",
    "    \n",
    "    # Get predictions and stats\n",
    "    pred, stat = big_model_baba(file_path)\n",
    "    \n",
    "    # Read last actual price from CSV\n",
    "    df = pd.read_csv(file_path)\n",
    "    prev_price = df['Close'].iloc[-1]\n",
    "    \n",
    "    # Calculate metrics\n",
    "    change_dollar = pred - prev_price\n",
    "    change_percent = (change_dollar / prev_price) * 100\n",
    "    new_old_ratio = pred / prev_price\n",
    "    \n",
    "    # Get company info from tickers_info\n",
    "    company_info = tickers_info[tickers_info['Symbol'] == ticker].iloc[0]\n",
    "    \n",
    "    # Create result dictionary\n",
    "    result = {\n",
    "        'Symbol': ticker,\n",
    "        'Company Name': company_info['Company Name'],\n",
    "        'Sector': company_info['Sector'],\n",
    "        'Previous Price': prev_price,\n",
    "        'Predicted Price': pred,\n",
    "        'Change ($)': change_dollar,\n",
    "        'Change (%)': change_percent,\n",
    "        'New/Old Ratio': new_old_ratio,\n",
    "        'MSE': stat['mse'],\n",
    "        'R2': stat['r2']\n",
    "        # Add any other stats from stat dictionary here\n",
    "    }\n",
    "    \n",
    "    results.append(result)\n",
    "    \n",
    "    # Print results in one row (optional)\n",
    "    print(f\"{ticker:<6} | {prev_price:10.2f} | {pred:10.2f} | {change_dollar:8.2f} | {change_percent:8.2f}% | {new_old_ratio:8.4f} | {stat['mse']:8.2f} | {stat['r2']:8.4f}\")"
   ]
  },
  {
   "cell_type": "code",
   "execution_count": null,
   "metadata": {},
   "outputs": [],
   "source": [
    "# Create DataFrame from results\n",
    "results_df = pd.DataFrame(results)\n",
    "\n",
    "# Reorder columns if needed\n",
    "columns_order = ['Symbol', 'Company Name', 'Sector', 'Previous Price', 'Predicted Price', \n",
    "                 'Change ($)', 'Change (%)', 'New/Old Ratio', 'MSE', 'R2']\n",
    "results_df = results_df[columns_order]\n",
    "\n",
    "# Save to CSV if desired\n",
    "results_df.to_csv('tickers.csv', index=False)\n",
    "\n",
    "# Display the DataFrame\n",
    "print(\"\\nComplete Results Table:\")\n",
    "print(results_df)"
   ]
  }
 ],
 "metadata": {
  "kernelspec": {
   "display_name": "VENV",
   "language": "python",
   "name": "python3"
  },
  "language_info": {
   "codemirror_mode": {
    "name": "ipython",
    "version": 3
   },
   "file_extension": ".py",
   "mimetype": "text/x-python",
   "name": "python",
   "nbconvert_exporter": "python",
   "pygments_lexer": "ipython3",
   "version": "3.12.8"
  }
 },
 "nbformat": 4,
 "nbformat_minor": 2
}
