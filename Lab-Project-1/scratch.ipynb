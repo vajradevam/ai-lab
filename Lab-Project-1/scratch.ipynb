{
 "cells": [
  {
   "cell_type": "markdown",
   "metadata": {},
   "source": [
    "### Random Maze Generator"
   ]
  },
  {
   "cell_type": "code",
   "execution_count": 70,
   "metadata": {},
   "outputs": [],
   "source": [
    "import random\n",
    "import numpy as np\n",
    "from collections import deque\n",
    "from typing import Callable"
   ]
  },
  {
   "cell_type": "code",
   "execution_count": 53,
   "metadata": {},
   "outputs": [],
   "source": [
    "def generate_maze(length, breadth, path_usage_percentage: float = 0.8):\n",
    "    \"\"\"\n",
    "    Generate a maze with a given length and breadth.\n",
    "    The maze includes a random start point (S), a random end point (E), walls (#), and open paths (.).\n",
    "\n",
    "    Args:\n",
    "        length (int): Number of rows in the maze.\n",
    "        breadth (int): Number of columns in the maze.\n",
    "        path_usage_percentage (float): Percentage of the Maze which is open.\n",
    "\n",
    "    Returns:\n",
    "        list: A 2D list representing the generated maze.\n",
    "    \"\"\"\n",
    "    maze = [[\"#\" for _ in range(breadth)] for _ in range(length)]\n",
    "\n",
    "    start_x, start_y = random.randint(0, length - 1), random.randint(0, breadth - 1)\n",
    "    end_x, end_y = random.randint(0, length - 1), random.randint(0, breadth - 1)\n",
    "\n",
    "    while (start_x, start_y) == (end_x, end_y):\n",
    "        end_x, end_y = random.randint(0, length - 1), random.randint(0, breadth - 1)\n",
    "\n",
    "    maze[start_x][start_y] = \"S\"\n",
    "    maze[end_x][end_y] = \"E\"\n",
    "\n",
    "    open_cells = int((length * breadth) * path_usage_percentage)\n",
    "    visited = set()\n",
    "    visited.add((start_x, start_y))\n",
    "\n",
    "    while len(visited) < open_cells:\n",
    "        x, y = random.randint(0, length - 1), random.randint(0, breadth - 1)\n",
    "        if (x, y) not in visited and maze[x][y] != \"S\" and maze[x][y] != \"E\":\n",
    "            maze[x][y] = \".\"\n",
    "            visited.add((x, y))\n",
    "\n",
    "    return maze"
   ]
  },
  {
   "cell_type": "code",
   "execution_count": 54,
   "metadata": {},
   "outputs": [],
   "source": [
    "def print_maze(maze):\n",
    "    \"\"\"\n",
    "    Print the maze in a human-readable format.\n",
    "\n",
    "    Args:\n",
    "        maze (list): A 2D list representing the maze.\n",
    "    \"\"\"\n",
    "    for row in maze:\n",
    "        print(\" \".join(row))"
   ]
  },
  {
   "cell_type": "code",
   "execution_count": 55,
   "metadata": {},
   "outputs": [
    {
     "name": "stdout",
     "output_type": "stream",
     "text": [
      ". . . . . . # . # .\n",
      ". . . . . . . . S .\n",
      ". # . . . . . . . #\n",
      ". . # # . . # # . .\n",
      ". . . . . E . . . .\n",
      ". . . # . . . . . .\n",
      ". . . # # . . . . .\n",
      ". . . . . # # # . .\n",
      "# . . # . # . . . .\n",
      ". . . . # . . . . #\n"
     ]
    }
   ],
   "source": [
    "length = 10  # Define length of the maze\n",
    "breadth = 10  # Define breadth of the maze\n",
    "\n",
    "maze = generate_maze(length, breadth, path_usage_percentage=0.8)\n",
    "print_maze(maze)"
   ]
  },
  {
   "cell_type": "markdown",
   "metadata": {},
   "source": [
    "### Solvers"
   ]
  },
  {
   "cell_type": "code",
   "execution_count": 87,
   "metadata": {},
   "outputs": [],
   "source": [
    "def find_path_bfs(maze):\n",
    "    \"\"\"\n",
    "    Find the path from 'S' to 'E' using Breadth-First Search.\n",
    "\n",
    "    Args:\n",
    "        maze (list): The maze represented as a 2D list.\n",
    "\n",
    "    Returns:\n",
    "        list: The maze with the path marked, or None if no path exists.\n",
    "    \"\"\"\n",
    "    rows, cols = len(maze), len(maze[0])\n",
    "    directions = [(-1, 0), (1, 0), (0, -1), (0, 1)]  # Up, Down, Left, Right\n",
    "\n",
    "    # Locate 'S' and 'E'\n",
    "    start = end = None\n",
    "    for i in range(rows):\n",
    "        for j in range(cols):\n",
    "            if maze[i][j] == 'S':\n",
    "                start = (i, j)\n",
    "            if maze[i][j] == 'E':\n",
    "                end = (i, j)\n",
    "\n",
    "    if not start or not end:\n",
    "        return None\n",
    "\n",
    "    # BFS implementation\n",
    "    queue = deque([(start, [])])\n",
    "    visited = set()\n",
    "\n",
    "    while queue:\n",
    "        (x, y), path = queue.popleft()\n",
    "\n",
    "        if (x, y) in visited:\n",
    "            continue\n",
    "\n",
    "        visited.add((x, y))\n",
    "        path = path + [(x, y)]\n",
    "\n",
    "        if (x, y) == end:\n",
    "            # Mark the path in the maze\n",
    "            for px, py in path:\n",
    "                if maze[px][py] == '.':\n",
    "                    maze[px][py] = '@'\n",
    "            return maze\n",
    "\n",
    "        for dx, dy in directions:\n",
    "            nx, ny = x + dx, y + dy\n",
    "            if 0 <= nx < rows and 0 <= ny < cols and maze[nx][ny] in {'.', 'E'}:\n",
    "                queue.append(((nx, ny), path))\n",
    "\n",
    "    return None"
   ]
  },
  {
   "cell_type": "code",
   "execution_count": 94,
   "metadata": {},
   "outputs": [],
   "source": [
    "def find_path_dfs(maze):\n",
    "    \"\"\"\n",
    "    Find the path from 'S' to 'E' using Depth-First Search.\n",
    "\n",
    "    Args:\n",
    "        maze (list): The maze represented as a 2D list.\n",
    "\n",
    "    Returns:\n",
    "        list: The maze with the path marked, or None if no path exists.\n",
    "    \"\"\"\n",
    "    rows, cols = len(maze), len(maze[0])\n",
    "    directions = [(-1, 0), (1, 0), (0, -1), (0, 1)]  # Up, Down, Left, Right\n",
    "\n",
    "    # Locate 'S' and 'E'\n",
    "    start = end = None\n",
    "    for i in range(rows):\n",
    "        for j in range(cols):\n",
    "            if maze[i][j] == 'S':\n",
    "                start = (i, j)\n",
    "            if maze[i][j] == 'E':\n",
    "                end = (i, j)\n",
    "\n",
    "    if not start or not end:\n",
    "        return None\n",
    "\n",
    "    # DFS implementation\n",
    "    stack = [(start, [])]\n",
    "    visited = set()\n",
    "\n",
    "    while stack:\n",
    "        (x, y), path = stack.pop()\n",
    "\n",
    "        if (x, y) in visited:\n",
    "            continue\n",
    "\n",
    "        visited.add((x, y))\n",
    "        path = path + [(x, y)]\n",
    "\n",
    "        if (x, y) == end:\n",
    "            # Mark the path in the maze\n",
    "            for px, py in path:\n",
    "                if maze[px][py] == '.':\n",
    "                    maze[px][py] = '@'\n",
    "            return maze\n",
    "\n",
    "        for dx, dy in directions:\n",
    "            nx, ny = x + dx, y + dy\n",
    "            if 0 <= nx < rows and 0 <= ny < cols and maze[nx][ny] in {'.', 'E'}:\n",
    "                stack.append(((nx, ny), path))\n",
    "\n",
    "    return None"
   ]
  },
  {
   "cell_type": "code",
   "execution_count": 136,
   "metadata": {},
   "outputs": [
    {
     "name": "stdout",
     "output_type": "stream",
     "text": [
      ". . # . . . . . # .\n",
      ". . # . . # . . . S\n",
      ". . # . # . . . . .\n",
      ". . # . # . . # . .\n",
      ". . . . . . . . . .\n",
      ". . . E . . # . . .\n",
      ". . . # . . # . . .\n",
      ". . . # . # . . # .\n",
      ". # . . . . . # . .\n",
      ". . . . . # . . . #\n",
      "#---\n",
      ". . # . . . . . # .\n",
      ". . # . . # . . . S\n",
      ". . # . # . . . . @\n",
      ". . # . # . . # . @\n",
      ". . . @ @ @ @ @ @ @\n",
      ". . . E . . # . . .\n",
      ". . . # . . # . . .\n",
      ". . . # . # . . # .\n",
      ". # . . . . . # . .\n",
      ". . . . . # . . . #\n"
     ]
    }
   ],
   "source": [
    "def Solve(algorithm: Callable):\n",
    "    maze = generate_maze(10, 10, 0.8)\n",
    "    print_maze(maze)\n",
    "\n",
    "    solved = algorithm(maze)\n",
    "\n",
    "    print(\"#---\")\n",
    "\n",
    "    if solved:\n",
    "        print_maze(solved)\n",
    "    else:\n",
    "        print(\"No path Exists!\")\n",
    "\n",
    "Solve(algorithm=find_path_bidirectional)"
   ]
  },
  {
   "cell_type": "markdown",
   "metadata": {},
   "source": [
    "For Real Time Demonstration or visualizing the algorithms step by step, we can print the maze after\n",
    "updating visited cells every time with a short delay; effectively the short delay can be variable-ized."
   ]
  }
 ],
 "metadata": {
  "kernelspec": {
   "display_name": "VENV",
   "language": "python",
   "name": "python3"
  },
  "language_info": {
   "codemirror_mode": {
    "name": "ipython",
    "version": 3
   },
   "file_extension": ".py",
   "mimetype": "text/x-python",
   "name": "python",
   "nbconvert_exporter": "python",
   "pygments_lexer": "ipython3",
   "version": "3.12.8"
  }
 },
 "nbformat": 4,
 "nbformat_minor": 2
}
